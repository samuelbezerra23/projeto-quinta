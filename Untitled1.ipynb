{
  "nbformat": 4,
  "nbformat_minor": 0,
  "metadata": {
    "colab": {
      "provenance": [],
      "authorship_tag": "ABX9TyP7yN2eC/UUO/gZJ/UnK126",
      "include_colab_link": true
    },
    "kernelspec": {
      "name": "python3",
      "display_name": "Python 3"
    },
    "language_info": {
      "name": "python"
    }
  },
  "cells": [
    {
      "cell_type": "markdown",
      "metadata": {
        "id": "view-in-github",
        "colab_type": "text"
      },
      "source": [
        "<a href=\"https://colab.research.google.com/github/samuelbezerra23/projeto-quinta/blob/main/Untitled1.ipynb\" target=\"_parent\"><img src=\"https://colab.research.google.com/assets/colab-badge.svg\" alt=\"Open In Colab\"/></a>"
      ]
    },
    {
      "cell_type": "code",
      "execution_count": null,
      "metadata": {
        "id": "9dnVMrxu1LOB"
      },
      "outputs": [],
      "source": [
        "import pandas as pd\n",
        "import numpy as np"
      ]
    },
    {
      "cell_type": "code",
      "source": [
        "np.random.seed(42)\n",
        "idades = np.random.randint(18, 65, size=200)\n",
        "rendas = np.random.choise(['Baixa', 'Média', 'Alta'],\n",
        "                          size=200, p=[0.4, 0.4, 0.2])\n",
        "estudantes = np.random.choise(['Sim', 'Não'],\n",
        "                              size=200, p=[0.3, 0.7])"
      ],
      "metadata": {
        "colab": {
          "base_uri": "https://localhost:8080/",
          "height": 211
        },
        "id": "bxlS77vE1Smv",
        "outputId": "2e6e6181-c05a-4125-a0c2-5f4ca74042fe"
      },
      "execution_count": null,
      "outputs": [
        {
          "output_type": "error",
          "ename": "AttributeError",
          "evalue": "module 'numpy.random' has no attribute 'choise'",
          "traceback": [
            "\u001b[0;31m---------------------------------------------------------------------------\u001b[0m",
            "\u001b[0;31mAttributeError\u001b[0m                            Traceback (most recent call last)",
            "\u001b[0;32m/tmp/ipython-input-527172635.py\u001b[0m in \u001b[0;36m<cell line: 0>\u001b[0;34m()\u001b[0m\n\u001b[1;32m      1\u001b[0m \u001b[0mnp\u001b[0m\u001b[0;34m.\u001b[0m\u001b[0mrandom\u001b[0m\u001b[0;34m.\u001b[0m\u001b[0mseed\u001b[0m\u001b[0;34m(\u001b[0m\u001b[0;36m42\u001b[0m\u001b[0;34m)\u001b[0m\u001b[0;34m\u001b[0m\u001b[0;34m\u001b[0m\u001b[0m\n\u001b[1;32m      2\u001b[0m \u001b[0midades\u001b[0m \u001b[0;34m=\u001b[0m \u001b[0mnp\u001b[0m\u001b[0;34m.\u001b[0m\u001b[0mrandom\u001b[0m\u001b[0;34m.\u001b[0m\u001b[0mrandint\u001b[0m\u001b[0;34m(\u001b[0m\u001b[0;36m18\u001b[0m\u001b[0;34m,\u001b[0m \u001b[0;36m65\u001b[0m\u001b[0;34m,\u001b[0m \u001b[0msize\u001b[0m\u001b[0;34m=\u001b[0m\u001b[0;36m200\u001b[0m\u001b[0;34m)\u001b[0m\u001b[0;34m\u001b[0m\u001b[0;34m\u001b[0m\u001b[0m\n\u001b[0;32m----> 3\u001b[0;31m rendas = np.random.choise(['Baixa', 'Média', 'Alta'], \n\u001b[0m\u001b[1;32m      4\u001b[0m                           size=200, p=[0.4, 0.4, 0.2])\n\u001b[1;32m      5\u001b[0m estudantes = np.random.choise(['Sim', 'Não'],\n",
            "\u001b[0;31mAttributeError\u001b[0m: module 'numpy.random' has no attribute 'choise'"
          ]
        }
      ]
    },
    {
      "cell_type": "code",
      "source": [
        "compra = []\n",
        "for idade, renda, estudante in zip(\n",
        "    idades, rendas, estudantes):\n",
        "    if(\n",
        "        idade<30 and renda in ['Média', 'Alta']) or estudante=='Sim':\n",
        "        compra.append('Sim' if np.random.rand() > 0.2 else 'Não')\n",
        "    elif renda == 'Alta':\n",
        "        compra.append('Sim' if np.random.rand() > 0.4 else 'Não')\n",
        "    else:\n",
        "      compra.append('Não' if np.random.rand() > 0.2 else 'Sim')"
      ],
      "metadata": {
        "id": "KieirPn42bv2"
      },
      "execution_count": null,
      "outputs": []
    },
    {
      "cell_type": "code",
      "source": [
        "df = pd.DataFrame({\n",
        "    'Idade': idades,\n",
        "    'Renda': rendas,\n",
        "    'Estudantes': estudantes,\n",
        "    'Compra': compra\n",
        "})\n",
        "print(\"Exemplo da base de dados:\\n\", df.head())"
      ],
      "metadata": {
        "id": "rIpDoiRC5Vr0"
      },
      "execution_count": null,
      "outputs": []
    }
  ]
}